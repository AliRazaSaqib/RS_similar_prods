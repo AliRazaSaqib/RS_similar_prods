{
 "cells": [
  {
   "cell_type": "code",
   "execution_count": 1,
   "metadata": {},
   "outputs": [],
   "source": [
    "import numpy as np\n",
    "import pandas as pd\n",
    "#import matplotlib as plt\n",
    "#import seaborn as sns\n",
    "import os"
   ]
  },
  {
   "cell_type": "code",
   "execution_count": 2,
   "metadata": {},
   "outputs": [],
   "source": [
    "df = pd.read_csv('fashion_data_with_ratings.csv')"
   ]
  },
  {
   "cell_type": "code",
   "execution_count": 3,
   "metadata": {},
   "outputs": [
    {
     "data": {
      "text/html": [
       "<div>\n",
       "<style scoped>\n",
       "    .dataframe tbody tr th:only-of-type {\n",
       "        vertical-align: middle;\n",
       "    }\n",
       "\n",
       "    .dataframe tbody tr th {\n",
       "        vertical-align: top;\n",
       "    }\n",
       "\n",
       "    .dataframe thead th {\n",
       "        text-align: right;\n",
       "    }\n",
       "</style>\n",
       "<table border=\"1\" class=\"dataframe\">\n",
       "  <thead>\n",
       "    <tr style=\"text-align: right;\">\n",
       "      <th></th>\n",
       "      <th>Unnamed: 0</th>\n",
       "      <th>ProductId</th>\n",
       "      <th>Gender</th>\n",
       "      <th>Category</th>\n",
       "      <th>SubCategory</th>\n",
       "      <th>ProductType</th>\n",
       "      <th>Colour</th>\n",
       "      <th>Usage</th>\n",
       "      <th>ProductTitle</th>\n",
       "      <th>Image</th>\n",
       "      <th>ImageURL</th>\n",
       "      <th>rating</th>\n",
       "    </tr>\n",
       "  </thead>\n",
       "  <tbody>\n",
       "    <tr>\n",
       "      <th>0</th>\n",
       "      <td>0</td>\n",
       "      <td>42419</td>\n",
       "      <td>Girls</td>\n",
       "      <td>Apparel</td>\n",
       "      <td>Topwear</td>\n",
       "      <td>Tops</td>\n",
       "      <td>White</td>\n",
       "      <td>Casual</td>\n",
       "      <td>Gini and Jony Girls Knit White Top</td>\n",
       "      <td>42419.jpg</td>\n",
       "      <td>http://assets.myntassets.com/v1/images/style/p...</td>\n",
       "      <td>2.0</td>\n",
       "    </tr>\n",
       "    <tr>\n",
       "      <th>1</th>\n",
       "      <td>1</td>\n",
       "      <td>34009</td>\n",
       "      <td>Girls</td>\n",
       "      <td>Apparel</td>\n",
       "      <td>Topwear</td>\n",
       "      <td>Tops</td>\n",
       "      <td>Black</td>\n",
       "      <td>Casual</td>\n",
       "      <td>Gini and Jony Girls Black Top</td>\n",
       "      <td>34009.jpg</td>\n",
       "      <td>http://assets.myntassets.com/v1/images/style/p...</td>\n",
       "      <td>1.5</td>\n",
       "    </tr>\n",
       "    <tr>\n",
       "      <th>2</th>\n",
       "      <td>2</td>\n",
       "      <td>40143</td>\n",
       "      <td>Girls</td>\n",
       "      <td>Apparel</td>\n",
       "      <td>Topwear</td>\n",
       "      <td>Tops</td>\n",
       "      <td>Blue</td>\n",
       "      <td>Casual</td>\n",
       "      <td>Gini and Jony Girls Pretty Blossom Blue Top</td>\n",
       "      <td>40143.jpg</td>\n",
       "      <td>http://assets.myntassets.com/v1/images/style/p...</td>\n",
       "      <td>3.5</td>\n",
       "    </tr>\n",
       "    <tr>\n",
       "      <th>3</th>\n",
       "      <td>3</td>\n",
       "      <td>23623</td>\n",
       "      <td>Girls</td>\n",
       "      <td>Apparel</td>\n",
       "      <td>Topwear</td>\n",
       "      <td>Tops</td>\n",
       "      <td>Pink</td>\n",
       "      <td>Casual</td>\n",
       "      <td>Doodle Kids Girls Pink I love Shopping Top</td>\n",
       "      <td>23623.jpg</td>\n",
       "      <td>http://assets.myntassets.com/v1/images/style/p...</td>\n",
       "      <td>4.0</td>\n",
       "    </tr>\n",
       "    <tr>\n",
       "      <th>4</th>\n",
       "      <td>4</td>\n",
       "      <td>47154</td>\n",
       "      <td>Girls</td>\n",
       "      <td>Apparel</td>\n",
       "      <td>Bottomwear</td>\n",
       "      <td>Capris</td>\n",
       "      <td>Black</td>\n",
       "      <td>Casual</td>\n",
       "      <td>Gini and Jony Girls Black Capris</td>\n",
       "      <td>47154.jpg</td>\n",
       "      <td>http://assets.myntassets.com/v1/images/style/p...</td>\n",
       "      <td>2.5</td>\n",
       "    </tr>\n",
       "  </tbody>\n",
       "</table>\n",
       "</div>"
      ],
      "text/plain": [
       "   Unnamed: 0  ProductId Gender Category SubCategory ProductType Colour  \\\n",
       "0           0      42419  Girls  Apparel     Topwear        Tops  White   \n",
       "1           1      34009  Girls  Apparel     Topwear        Tops  Black   \n",
       "2           2      40143  Girls  Apparel     Topwear        Tops   Blue   \n",
       "3           3      23623  Girls  Apparel     Topwear        Tops   Pink   \n",
       "4           4      47154  Girls  Apparel  Bottomwear      Capris  Black   \n",
       "\n",
       "    Usage                                 ProductTitle      Image  \\\n",
       "0  Casual           Gini and Jony Girls Knit White Top  42419.jpg   \n",
       "1  Casual                Gini and Jony Girls Black Top  34009.jpg   \n",
       "2  Casual  Gini and Jony Girls Pretty Blossom Blue Top  40143.jpg   \n",
       "3  Casual   Doodle Kids Girls Pink I love Shopping Top  23623.jpg   \n",
       "4  Casual             Gini and Jony Girls Black Capris  47154.jpg   \n",
       "\n",
       "                                            ImageURL  rating  \n",
       "0  http://assets.myntassets.com/v1/images/style/p...     2.0  \n",
       "1  http://assets.myntassets.com/v1/images/style/p...     1.5  \n",
       "2  http://assets.myntassets.com/v1/images/style/p...     3.5  \n",
       "3  http://assets.myntassets.com/v1/images/style/p...     4.0  \n",
       "4  http://assets.myntassets.com/v1/images/style/p...     2.5  "
      ]
     },
     "execution_count": 3,
     "metadata": {},
     "output_type": "execute_result"
    }
   ],
   "source": [
    "df.head()"
   ]
  },
  {
   "cell_type": "code",
   "execution_count": 4,
   "metadata": {},
   "outputs": [
    {
     "data": {
      "text/plain": [
       "(2906, 12)"
      ]
     },
     "execution_count": 4,
     "metadata": {},
     "output_type": "execute_result"
    }
   ],
   "source": [
    "df.shape"
   ]
  },
  {
   "cell_type": "code",
   "execution_count": 5,
   "metadata": {},
   "outputs": [
    {
     "data": {
      "text/plain": [
       "Unnamed: 0      0\n",
       "ProductId       0\n",
       "Gender          0\n",
       "Category        0\n",
       "SubCategory     0\n",
       "ProductType     0\n",
       "Colour          0\n",
       "Usage           0\n",
       "ProductTitle    0\n",
       "Image           0\n",
       "ImageURL        0\n",
       "rating          0\n",
       "dtype: int64"
      ]
     },
     "execution_count": 5,
     "metadata": {},
     "output_type": "execute_result"
    }
   ],
   "source": [
    "df.isnull().sum()"
   ]
  },
  {
   "cell_type": "code",
   "execution_count": 6,
   "metadata": {},
   "outputs": [],
   "source": [
    "def collapse(L):\n",
    "    L1 = []\n",
    "    for i in L:\n",
    "        L1.append(i.replace(\" \",\"\"))\n",
    "    return L1"
   ]
  },
  {
   "cell_type": "code",
   "execution_count": 7,
   "metadata": {},
   "outputs": [],
   "source": [
    "#df['Category'] = df['Category'].apply(collapse)\n",
    "#df['SubCategory'] = df['SubCategory'].apply(collapse)\n",
    "#df['ProductType'] = df['ProductType'].apply(collapse)\n",
    "#df['Colour'] = df['Colour'].apply(collapse)\n",
    "#df['Usage'] = df['Usage'].apply(collapse)"
   ]
  },
  {
   "cell_type": "code",
   "execution_count": 8,
   "metadata": {},
   "outputs": [],
   "source": [
    "df['tags'] = df['Category'] + df['SubCategory'] + df['ProductType'] + df['Colour'] + df['Usage']"
   ]
  },
  {
   "cell_type": "code",
   "execution_count": 9,
   "metadata": {},
   "outputs": [
    {
     "data": {
      "text/html": [
       "<div>\n",
       "<style scoped>\n",
       "    .dataframe tbody tr th:only-of-type {\n",
       "        vertical-align: middle;\n",
       "    }\n",
       "\n",
       "    .dataframe tbody tr th {\n",
       "        vertical-align: top;\n",
       "    }\n",
       "\n",
       "    .dataframe thead th {\n",
       "        text-align: right;\n",
       "    }\n",
       "</style>\n",
       "<table border=\"1\" class=\"dataframe\">\n",
       "  <thead>\n",
       "    <tr style=\"text-align: right;\">\n",
       "      <th></th>\n",
       "      <th>Unnamed: 0</th>\n",
       "      <th>ProductId</th>\n",
       "      <th>Gender</th>\n",
       "      <th>Category</th>\n",
       "      <th>SubCategory</th>\n",
       "      <th>ProductType</th>\n",
       "      <th>Colour</th>\n",
       "      <th>Usage</th>\n",
       "      <th>ProductTitle</th>\n",
       "      <th>Image</th>\n",
       "      <th>ImageURL</th>\n",
       "      <th>rating</th>\n",
       "      <th>tags</th>\n",
       "    </tr>\n",
       "  </thead>\n",
       "  <tbody>\n",
       "    <tr>\n",
       "      <th>0</th>\n",
       "      <td>0</td>\n",
       "      <td>42419</td>\n",
       "      <td>Girls</td>\n",
       "      <td>Apparel</td>\n",
       "      <td>Topwear</td>\n",
       "      <td>Tops</td>\n",
       "      <td>White</td>\n",
       "      <td>Casual</td>\n",
       "      <td>Gini and Jony Girls Knit White Top</td>\n",
       "      <td>42419.jpg</td>\n",
       "      <td>http://assets.myntassets.com/v1/images/style/p...</td>\n",
       "      <td>2.0</td>\n",
       "      <td>ApparelTopwearTopsWhiteCasual</td>\n",
       "    </tr>\n",
       "    <tr>\n",
       "      <th>1</th>\n",
       "      <td>1</td>\n",
       "      <td>34009</td>\n",
       "      <td>Girls</td>\n",
       "      <td>Apparel</td>\n",
       "      <td>Topwear</td>\n",
       "      <td>Tops</td>\n",
       "      <td>Black</td>\n",
       "      <td>Casual</td>\n",
       "      <td>Gini and Jony Girls Black Top</td>\n",
       "      <td>34009.jpg</td>\n",
       "      <td>http://assets.myntassets.com/v1/images/style/p...</td>\n",
       "      <td>1.5</td>\n",
       "      <td>ApparelTopwearTopsBlackCasual</td>\n",
       "    </tr>\n",
       "    <tr>\n",
       "      <th>2</th>\n",
       "      <td>2</td>\n",
       "      <td>40143</td>\n",
       "      <td>Girls</td>\n",
       "      <td>Apparel</td>\n",
       "      <td>Topwear</td>\n",
       "      <td>Tops</td>\n",
       "      <td>Blue</td>\n",
       "      <td>Casual</td>\n",
       "      <td>Gini and Jony Girls Pretty Blossom Blue Top</td>\n",
       "      <td>40143.jpg</td>\n",
       "      <td>http://assets.myntassets.com/v1/images/style/p...</td>\n",
       "      <td>3.5</td>\n",
       "      <td>ApparelTopwearTopsBlueCasual</td>\n",
       "    </tr>\n",
       "    <tr>\n",
       "      <th>3</th>\n",
       "      <td>3</td>\n",
       "      <td>23623</td>\n",
       "      <td>Girls</td>\n",
       "      <td>Apparel</td>\n",
       "      <td>Topwear</td>\n",
       "      <td>Tops</td>\n",
       "      <td>Pink</td>\n",
       "      <td>Casual</td>\n",
       "      <td>Doodle Kids Girls Pink I love Shopping Top</td>\n",
       "      <td>23623.jpg</td>\n",
       "      <td>http://assets.myntassets.com/v1/images/style/p...</td>\n",
       "      <td>4.0</td>\n",
       "      <td>ApparelTopwearTopsPinkCasual</td>\n",
       "    </tr>\n",
       "    <tr>\n",
       "      <th>4</th>\n",
       "      <td>4</td>\n",
       "      <td>47154</td>\n",
       "      <td>Girls</td>\n",
       "      <td>Apparel</td>\n",
       "      <td>Bottomwear</td>\n",
       "      <td>Capris</td>\n",
       "      <td>Black</td>\n",
       "      <td>Casual</td>\n",
       "      <td>Gini and Jony Girls Black Capris</td>\n",
       "      <td>47154.jpg</td>\n",
       "      <td>http://assets.myntassets.com/v1/images/style/p...</td>\n",
       "      <td>2.5</td>\n",
       "      <td>ApparelBottomwearCaprisBlackCasual</td>\n",
       "    </tr>\n",
       "  </tbody>\n",
       "</table>\n",
       "</div>"
      ],
      "text/plain": [
       "   Unnamed: 0  ProductId Gender Category SubCategory ProductType Colour  \\\n",
       "0           0      42419  Girls  Apparel     Topwear        Tops  White   \n",
       "1           1      34009  Girls  Apparel     Topwear        Tops  Black   \n",
       "2           2      40143  Girls  Apparel     Topwear        Tops   Blue   \n",
       "3           3      23623  Girls  Apparel     Topwear        Tops   Pink   \n",
       "4           4      47154  Girls  Apparel  Bottomwear      Capris  Black   \n",
       "\n",
       "    Usage                                 ProductTitle      Image  \\\n",
       "0  Casual           Gini and Jony Girls Knit White Top  42419.jpg   \n",
       "1  Casual                Gini and Jony Girls Black Top  34009.jpg   \n",
       "2  Casual  Gini and Jony Girls Pretty Blossom Blue Top  40143.jpg   \n",
       "3  Casual   Doodle Kids Girls Pink I love Shopping Top  23623.jpg   \n",
       "4  Casual             Gini and Jony Girls Black Capris  47154.jpg   \n",
       "\n",
       "                                            ImageURL  rating  \\\n",
       "0  http://assets.myntassets.com/v1/images/style/p...     2.0   \n",
       "1  http://assets.myntassets.com/v1/images/style/p...     1.5   \n",
       "2  http://assets.myntassets.com/v1/images/style/p...     3.5   \n",
       "3  http://assets.myntassets.com/v1/images/style/p...     4.0   \n",
       "4  http://assets.myntassets.com/v1/images/style/p...     2.5   \n",
       "\n",
       "                                 tags  \n",
       "0       ApparelTopwearTopsWhiteCasual  \n",
       "1       ApparelTopwearTopsBlackCasual  \n",
       "2        ApparelTopwearTopsBlueCasual  \n",
       "3        ApparelTopwearTopsPinkCasual  \n",
       "4  ApparelBottomwearCaprisBlackCasual  "
      ]
     },
     "execution_count": 9,
     "metadata": {},
     "output_type": "execute_result"
    }
   ],
   "source": [
    "df.head()"
   ]
  },
  {
   "cell_type": "code",
   "execution_count": 10,
   "metadata": {},
   "outputs": [],
   "source": [
    "df1 = df.drop(columns=['Image','ImageURL'])"
   ]
  },
  {
   "cell_type": "code",
   "execution_count": 11,
   "metadata": {},
   "outputs": [],
   "source": [
    "#df2=df1\n",
    "#df2['tags'] = df1['tags'].apply(lambda x:x.split())"
   ]
  },
  {
   "cell_type": "code",
   "execution_count": 12,
   "metadata": {},
   "outputs": [],
   "source": [
    "#df2['tags'] = df2['tags'].apply(lambda x: \" \".join(x))"
   ]
  },
  {
   "cell_type": "code",
   "execution_count": 13,
   "metadata": {},
   "outputs": [
    {
     "data": {
      "text/html": [
       "<div>\n",
       "<style scoped>\n",
       "    .dataframe tbody tr th:only-of-type {\n",
       "        vertical-align: middle;\n",
       "    }\n",
       "\n",
       "    .dataframe tbody tr th {\n",
       "        vertical-align: top;\n",
       "    }\n",
       "\n",
       "    .dataframe thead th {\n",
       "        text-align: right;\n",
       "    }\n",
       "</style>\n",
       "<table border=\"1\" class=\"dataframe\">\n",
       "  <thead>\n",
       "    <tr style=\"text-align: right;\">\n",
       "      <th></th>\n",
       "      <th>Unnamed: 0</th>\n",
       "      <th>ProductId</th>\n",
       "      <th>Gender</th>\n",
       "      <th>Category</th>\n",
       "      <th>SubCategory</th>\n",
       "      <th>ProductType</th>\n",
       "      <th>Colour</th>\n",
       "      <th>Usage</th>\n",
       "      <th>ProductTitle</th>\n",
       "      <th>rating</th>\n",
       "      <th>tags</th>\n",
       "    </tr>\n",
       "  </thead>\n",
       "  <tbody>\n",
       "    <tr>\n",
       "      <th>0</th>\n",
       "      <td>0</td>\n",
       "      <td>42419</td>\n",
       "      <td>Girls</td>\n",
       "      <td>Apparel</td>\n",
       "      <td>Topwear</td>\n",
       "      <td>Tops</td>\n",
       "      <td>White</td>\n",
       "      <td>Casual</td>\n",
       "      <td>Gini and Jony Girls Knit White Top</td>\n",
       "      <td>2.0</td>\n",
       "      <td>ApparelTopwearTopsWhiteCasual</td>\n",
       "    </tr>\n",
       "    <tr>\n",
       "      <th>1</th>\n",
       "      <td>1</td>\n",
       "      <td>34009</td>\n",
       "      <td>Girls</td>\n",
       "      <td>Apparel</td>\n",
       "      <td>Topwear</td>\n",
       "      <td>Tops</td>\n",
       "      <td>Black</td>\n",
       "      <td>Casual</td>\n",
       "      <td>Gini and Jony Girls Black Top</td>\n",
       "      <td>1.5</td>\n",
       "      <td>ApparelTopwearTopsBlackCasual</td>\n",
       "    </tr>\n",
       "  </tbody>\n",
       "</table>\n",
       "</div>"
      ],
      "text/plain": [
       "   Unnamed: 0  ProductId Gender Category SubCategory ProductType Colour  \\\n",
       "0           0      42419  Girls  Apparel     Topwear        Tops  White   \n",
       "1           1      34009  Girls  Apparel     Topwear        Tops  Black   \n",
       "\n",
       "    Usage                        ProductTitle  rating  \\\n",
       "0  Casual  Gini and Jony Girls Knit White Top     2.0   \n",
       "1  Casual       Gini and Jony Girls Black Top     1.5   \n",
       "\n",
       "                            tags  \n",
       "0  ApparelTopwearTopsWhiteCasual  \n",
       "1  ApparelTopwearTopsBlackCasual  "
      ]
     },
     "execution_count": 13,
     "metadata": {},
     "output_type": "execute_result"
    }
   ],
   "source": [
    "df1.head(2)"
   ]
  },
  {
   "cell_type": "code",
   "execution_count": 14,
   "metadata": {},
   "outputs": [],
   "source": [
    "from sklearn.feature_extraction.text import CountVectorizer\n",
    "cv = CountVectorizer(max_features=5000,stop_words='english')"
   ]
  },
  {
   "cell_type": "code",
   "execution_count": 15,
   "metadata": {},
   "outputs": [],
   "source": [
    "vector = cv.fit_transform(df1['tags']).toarray()"
   ]
  },
  {
   "cell_type": "code",
   "execution_count": 16,
   "metadata": {},
   "outputs": [
    {
     "data": {
      "text/plain": [
       "array([[0, 0, 0, ..., 0, 0, 0],\n",
       "       [0, 0, 0, ..., 0, 0, 0],\n",
       "       [0, 0, 0, ..., 0, 0, 0],\n",
       "       ...,\n",
       "       [0, 0, 0, ..., 0, 0, 0],\n",
       "       [0, 0, 0, ..., 0, 0, 0],\n",
       "       [0, 0, 0, ..., 0, 0, 0]], dtype=int64)"
      ]
     },
     "execution_count": 16,
     "metadata": {},
     "output_type": "execute_result"
    }
   ],
   "source": [
    "vector"
   ]
  },
  {
   "cell_type": "code",
   "execution_count": 17,
   "metadata": {},
   "outputs": [
    {
     "data": {
      "text/plain": [
       "(2906, 326)"
      ]
     },
     "execution_count": 17,
     "metadata": {},
     "output_type": "execute_result"
    }
   ],
   "source": [
    "vector.shape"
   ]
  },
  {
   "cell_type": "code",
   "execution_count": 18,
   "metadata": {},
   "outputs": [],
   "source": [
    "from sklearn.metrics.pairwise import cosine_similarity"
   ]
  },
  {
   "cell_type": "code",
   "execution_count": 19,
   "metadata": {},
   "outputs": [
    {
     "data": {
      "text/plain": [
       "array([[1., 0., 0., ..., 0., 0., 0.],\n",
       "       [0., 1., 0., ..., 0., 0., 0.],\n",
       "       [0., 0., 1., ..., 0., 0., 0.],\n",
       "       ...,\n",
       "       [0., 0., 0., ..., 1., 0., 0.],\n",
       "       [0., 0., 0., ..., 0., 1., 0.],\n",
       "       [0., 0., 0., ..., 0., 0., 1.]])"
      ]
     },
     "execution_count": 19,
     "metadata": {},
     "output_type": "execute_result"
    }
   ],
   "source": [
    "similarity = cosine_similarity(vector)\n",
    "similarity"
   ]
  },
  {
   "cell_type": "code",
   "execution_count": 20,
   "metadata": {},
   "outputs": [],
   "source": [
    "def recommend(movie):\n",
    "    index = df1[df1['ProductTitle'] == movie].index[0]\n",
    "#     print(index)\n",
    "    distances = sorted(list(enumerate(similarity[index])),reverse=True,key = lambda x: x[1])\n",
    "#     print(distances)\n",
    "    for i in distances[1:6]:\n",
    "#         print(i)\n",
    "        print(df1.iloc[i[0]])\n",
    "        print(df1.iloc[i[0]].ProductTitle)\n",
    "        "
   ]
  },
  {
   "cell_type": "code",
   "execution_count": 21,
   "metadata": {},
   "outputs": [
    {
     "name": "stdout",
     "output_type": "stream",
     "text": [
      "Unnamed: 0                                 58\n",
      "ProductId                               31121\n",
      "Gender                                  Girls\n",
      "Category                              Apparel\n",
      "SubCategory                           Topwear\n",
      "ProductType                              Tops\n",
      "Colour                                  Black\n",
      "Usage                                  Casual\n",
      "ProductTitle    Gini and Jony Girls Black Top\n",
      "rating                                    2.0\n",
      "tags            ApparelTopwearTopsBlackCasual\n",
      "Name: 58, dtype: object\n",
      "Gini and Jony Girls Black Top\n",
      "Unnamed: 0                                    108\n",
      "ProductId                                   18178\n",
      "Gender                                      Girls\n",
      "Category                                  Apparel\n",
      "SubCategory                               Topwear\n",
      "ProductType                                  Tops\n",
      "Colour                                      Black\n",
      "Usage                                      Casual\n",
      "ProductTitle    Doodle Kids Girls Black Layer Top\n",
      "rating                                        4.0\n",
      "tags                ApparelTopwearTopsBlackCasual\n",
      "Name: 108, dtype: object\n",
      "Doodle Kids Girls Black Layer Top\n",
      "Unnamed: 0                                125\n",
      "ProductId                               36212\n",
      "Gender                                  Girls\n",
      "Category                              Apparel\n",
      "SubCategory                           Topwear\n",
      "ProductType                              Tops\n",
      "Colour                                  Black\n",
      "Usage                                  Casual\n",
      "ProductTitle        Gini Jony Girls Black Top\n",
      "rating                                    3.5\n",
      "tags            ApparelTopwearTopsBlackCasual\n",
      "Name: 125, dtype: object\n",
      "Gini Jony Girls Black Top\n",
      "Unnamed: 0                                    134\n",
      "ProductId                                   18179\n",
      "Gender                                      Girls\n",
      "Category                                  Apparel\n",
      "SubCategory                               Topwear\n",
      "ProductType                                  Tops\n",
      "Colour                                      Black\n",
      "Usage                                      Casual\n",
      "ProductTitle    Doodle Kids Girls Black Layer Top\n",
      "rating                                        3.5\n",
      "tags                ApparelTopwearTopsBlackCasual\n",
      "Name: 134, dtype: object\n",
      "Doodle Kids Girls Black Layer Top\n",
      "Unnamed: 0                                144\n",
      "ProductId                               41307\n",
      "Gender                                  Girls\n",
      "Category                              Apparel\n",
      "SubCategory                           Topwear\n",
      "ProductType                              Tops\n",
      "Colour                                  Black\n",
      "Usage                                  Casual\n",
      "ProductTitle    Gini and Jony Girls Black Top\n",
      "rating                                    2.0\n",
      "tags            ApparelTopwearTopsBlackCasual\n",
      "Name: 144, dtype: object\n",
      "Gini and Jony Girls Black Top\n"
     ]
    }
   ],
   "source": [
    "recommend('Gini and Jony Girls Black Top')\n",
    "# recommend('Do u speak Green Girls Olive 3/4 Pant')\n",
    "# recommend('Nike Men Zoom Hyperenforcer White Sports Shoes')"
   ]
  },
  {
   "cell_type": "code",
   "execution_count": 22,
   "metadata": {},
   "outputs": [],
   "source": [
    "import pickle"
   ]
  },
  {
   "cell_type": "code",
   "execution_count": 23,
   "metadata": {},
   "outputs": [],
   "source": [
    "pickle.dump(df1,open('Products.pkl','wb'))\n",
    "pickle.dump(similarity,open('similarity.pkl','wb'))"
   ]
  },
  {
   "cell_type": "code",
   "execution_count": null,
   "metadata": {},
   "outputs": [],
   "source": []
  }
 ],
 "metadata": {
  "kernelspec": {
   "display_name": "Python 3 (ipykernel)",
   "language": "python",
   "name": "python3"
  },
  "language_info": {
   "codemirror_mode": {
    "name": "ipython",
    "version": 3
   },
   "file_extension": ".py",
   "mimetype": "text/x-python",
   "name": "python",
   "nbconvert_exporter": "python",
   "pygments_lexer": "ipython3",
   "version": "3.8.10"
  },
  "vscode": {
   "interpreter": {
    "hash": "570feb405e2e27c949193ac68f46852414290d515b0ba6e5d90d076ed2284471"
   }
  }
 },
 "nbformat": 4,
 "nbformat_minor": 2
}
